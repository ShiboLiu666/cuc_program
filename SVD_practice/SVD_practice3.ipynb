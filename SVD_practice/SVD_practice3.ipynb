{
 "cells": [
  {
   "cell_type": "markdown",
   "metadata": {},
   "source": [
    "# 餐馆菜肴推荐引擎"
   ]
  },
  {
   "cell_type": "code",
   "execution_count": 1,
   "metadata": {},
   "outputs": [],
   "source": [
    "# coding=utf-8\n",
    "\n",
    "#导入numpy库\n",
    "from numpy import *\n",
    "from numpy import linalg as la\n",
    "\n",
    "#导入原始数据\n",
    "def loadExData():\n",
    "     return [[1,1,1,0,0],\n",
    "             [2,2,2,0,0],\n",
    "             [5,5,5,0,0],\n",
    "             [1,1,0,2,2],\n",
    "             [0,0,0,3,3],\n",
    "             [0,0,0,1,1]]"
   ]
  },
  {
   "cell_type": "code",
   "execution_count": 2,
   "metadata": {},
   "outputs": [],
   "source": [
    "#通过欧式距离来计算相似度\n",
    "def eulidSim(inA, inB):\n",
    "    return 1.0/(1.0+la.norm(inA - inB))\n",
    "\n",
    "#通过皮尔逊相关系数来计算相似度\n",
    "def pearsSim(inA, inB):\n",
    "    if len(inA)<3:\n",
    "        return 1.0\n",
    "    else:\n",
    "        return 0.5+0.5*corrcoef(inA, inB, rowvar = 0)[0][1]\n",
    "\n",
    "#余弦相似度\n",
    "def cosSim(inA, inB):\n",
    "    num   = float(inA.T*inB)            #向量inA和向量inB点乘,得cos分子\n",
    "    denom = la.norm(inA)*la.norm(inB)   #向量inA,inB各2范数相乘，得cos分母\n",
    "    return 0.5+0.5*(num/denom)         "
   ]
  },
  {
   "cell_type": "code",
   "execution_count": 3,
   "metadata": {},
   "outputs": [],
   "source": [
    "#计算在给定相似度计算方法下用户对物品的估计评分值\n",
    "def standEst(dataMat, user, simMeas, item):     #数据矩阵，用户编号，相似度计算方法，物品编号\n",
    "    n = shape(dataMat)[1]                       #行对应用户，列对应物品，n即物品数目\n",
    "    simTotal    = 0.0\n",
    "    ratSimTotal = 0.0\n",
    "    for j in range(n):\n",
    "        userRating = dataMat[user, j]           #j为某个物品编号\n",
    "        if userRating == 0:\n",
    "            continue\n",
    "        else:\n",
    "            #寻找两个用户都评级的物品\n",
    "            overLap = nonzero(logical_and(dataMat[:, item].A>0, dataMat[:,j].A>0))[0]#nonzero(a)返回数组a中值不为零的元素的下标为向量\n",
    "            if len(overLap)== 0:\n",
    "                similarity = 0\n",
    "            else:\n",
    "                similarity = simMeas(dataMat[overLap, item], dataMat[overLap, j])\n",
    "            simTotal += similarity\n",
    "            ratSimTotal += similarity * userRating\n",
    "    if simTotal == 0:\n",
    "        return 0\n",
    "    else:\n",
    "        return ratSimTotal/simTotal"
   ]
  },
  {
   "cell_type": "code",
   "execution_count": 4,
   "metadata": {},
   "outputs": [
    {
     "name": "stdout",
     "output_type": "stream",
     "text": [
      "[[1 1 1 4 4]\n",
      " [2 2 2 0 4]\n",
      " [5 5 5 4 0]\n",
      " [1 1 0 2 2]\n",
      " [0 2 0 3 3]\n",
      " [0 0 0 1 1]]\n",
      "[(0, 2.65436970132384), (2, 2.654023149824193)]\n",
      "[(2, 2.3138382645201254), (0, 2.3067875486559717)]\n",
      "[(2, 2.6666666666666665), (0, 2.6)]\n"
     ]
    }
   ],
   "source": [
    "#推荐引擎，会调用standEst()函数，产生用户对不同物品的预测评分\n",
    "def recommend(dataMat, user, N=4, simMeas=cosSim, estMethod=standEst):#输入用户编号，返回用户对前N个未评级物品预测评分值\n",
    "    unratedItems = nonzero(dataMat[user, :].A==0)[1]                 #寻找未评级的物品，nonzero()[1]返回参数的某些为0的列的编号，dataMat中用户user对某个商品评价为0的列\n",
    "    if len(unratedItems) == 0:\n",
    "        return \"you rated everything\"\n",
    "    else:\n",
    "        itemScores = []\n",
    "        for item in unratedItems:\n",
    "            estimatedScore = estMethod(dataMat, user, simMeas, item)#对未评价的物品item进行进行预测评分，传入函数standEst\n",
    "            itemScores.append((item,estimatedScore))\n",
    "        return sorted(itemScores, key=lambda e:e[1], reverse = True)[:N]#前N个未评级物品\n",
    "    \n",
    " \n",
    "myMat = mat(loadExData())\n",
    "myMat[0,3] = myMat[0,4] = myMat[1,4] = myMat[2,3] = 4                  #对矩阵稍作修改来展示推荐系统\n",
    "myMat[4,1] = 2\n",
    "print (myMat)\n",
    "print (recommend(myMat, 4))\n",
    "print (recommend(myMat, 4,simMeas = eulidSim))\n",
    "print (recommend(myMat, 4,simMeas = pearsSim))"
   ]
  },
  {
   "cell_type": "code",
   "execution_count": 5,
   "metadata": {},
   "outputs": [
    {
     "name": "stdout",
     "output_type": "stream",
     "text": [
      "[15.77075346 11.40670395 11.03044558  4.84639758  3.09292055  2.58097379\n",
      "  1.00413543  0.72817072  0.43800353  0.22082113  0.07367823]\n",
      "[2.48716665e+02 1.30112895e+02 1.21670730e+02 2.34875695e+01\n",
      " 9.56615756e+00 6.66142570e+00 1.00828796e+00 5.30232598e-01\n",
      " 1.91847092e-01 4.87619735e-02 5.42848136e-03]\n",
      "487.7999999999998\n",
      "378.82955951135796\n",
      "500.50028912757944\n"
     ]
    }
   ],
   "source": [
    "#利用SVD进行提高推荐效果\n",
    "def loadExData2():\n",
    "        return [[0, 0, 0, 0, 0, 4, 0, 0, 0, 0, 5],\n",
    "                [0, 0, 0, 3, 0, 4, 0, 0, 0, 0, 3],\n",
    "                [0, 0, 0, 0, 4, 0, 0, 1, 0, 4, 0], \n",
    "                [3, 3, 4, 0, 0, 0, 0, 2, 2, 0, 0],\n",
    "                [5, 4, 5, 0, 0, 0, 0, 5, 5, 0, 0],\n",
    "                [0, 0, 0, 0, 5, 0, 1, 0, 0, 5, 0],\n",
    "                [4, 3, 4, 0, 0, 0, 0, 5, 5, 0, 1],\n",
    "                [0, 0, 0, 4, 0, 4, 0, 0, 0, 0, 4],\n",
    "                [0, 0, 0, 2, 0, 2, 5, 0, 0, 1, 2],\n",
    "                [0, 0, 0, 0, 5, 0, 0, 0, 0, 4, 0],\n",
    "                [1, 0, 0, 0, 0, 0, 0, 1, 2, 0, 0]]\n",
    " \n",
    "U,Sigma,VT = la.svd(mat(loadExData2()))\n",
    "print (Sigma)\n",
    "Sig2 =  Sigma**2\n",
    "print (Sig2)\n",
    "print (sum(Sig2)*0.9)\n",
    "print (sum(Sig2[:2]))\n",
    "print (sum(Sig2[:3]))"
   ]
  },
  {
   "cell_type": "code",
   "execution_count": 9,
   "metadata": {},
   "outputs": [
    {
     "name": "stdout",
     "output_type": "stream",
     "text": [
      "the 0 and 3 similarity is: 0.490950\n",
      "the 1 and 3 similarity is: 0.491294\n",
      "the 2 and 3 similarity is: 0.491573\n",
      "the 4 and 3 similarity is: 0.450495\n",
      "the 6 and 3 similarity is: 0.743699\n",
      "the 7 and 3 similarity is: 0.482175\n",
      "the 8 and 3 similarity is: 0.491307\n",
      "the 9 and 3 similarity is: 0.522379\n",
      "[(1, 3.0000000000000004), (4, 3.0000000000000004), (0, 3.0), (2, 3.0)]\n",
      "the 0 and 3 similarity is: 0.341942\n",
      "the 1 and 3 similarity is: 0.345560\n",
      "the 2 and 3 similarity is: 0.345149\n",
      "the 4 and 3 similarity is: 0.450126\n",
      "the 6 and 3 similarity is: 0.923822\n",
      "the 7 and 3 similarity is: 0.319482\n",
      "the 8 and 3 similarity is: 0.334910\n",
      "the 9 and 3 similarity is: 0.566918\n",
      "[(2, 3.0000000000000004), (0, 3.0), (4, 3.0), (7, 3.0)]\n"
     ]
    }
   ],
   "source": [
    "#基于SVD的评分估计\n",
    "def SVDEst(dataMat, user, simMeas, item):\n",
    "    n = shape(dataMat)[1]\n",
    "    simTotal = 0.0\n",
    "    ratSimTotal = 0.0\n",
    "    U, Sigma, VT = la.svd(dataMat)\n",
    "    Sig4 = mat(eye(4)*Sigma[:4]) #化为对角阵，或者用linalg.diag()函数可破\n",
    "    xformedItems = dataMat.T*U[:,:4]*Sig4.I#构造转换后的物品\n",
    "    for j in range(n):\n",
    "        userRating = dataMat[user,j]\n",
    "        if userRating == 0 or j == item:\n",
    "            continue\n",
    "        else:\n",
    "            similarity = simMeas(xformedItems[item,:].T, xformedItems[j, :].T)\n",
    "            print (\"the %d and %d similarity is: %f\" %(item,j,similarity))\n",
    "            simTotal += similarity\n",
    "            ratSimTotal += similarity*userRating\n",
    "            if simTotal ==0 :\n",
    "                return 0\n",
    "            else:\n",
    "                return ratSimTotal/simTotal\n",
    " \n",
    "myMat = mat(loadExData2())\n",
    "print (recommend(myMat, 1, estMethod = SVDEst))\n",
    "print (recommend(myMat, 1, estMethod = SVDEst, simMeas = pearsSim))"
   ]
  },
  {
   "cell_type": "code",
   "execution_count": 7,
   "metadata": {},
   "outputs": [],
   "source": [
    "# 基于物品相似度的推荐引擎\n",
    "def standEst(dataMat, user, simMeas, item):\n",
    "    \"\"\"standEst(计算某用户未评分物品中，以对该物品和其他物品评分的用户的物品相似度，然后进行综合评分)\n",
    "\n",
    "    Args:\n",
    "        dataMat         训练数据集\n",
    "        user            用户编号\n",
    "        simMeas         相似度计算方法\n",
    "        item            未评分的物品编号\n",
    "    Returns:\n",
    "        ratSimTotal/simTotal     评分（0～5之间的值）\n",
    "    \"\"\"\n",
    "    # 得到数据集中的物品数目\n",
    "    n = shape(dataMat)[1]\n",
    "    # 初始化两个评分值\n",
    "    simTotal = 0.0\n",
    "    ratSimTotal = 0.0\n",
    "    # 遍历行中的每个物品（对用户评过分的物品进行遍历，并将它与其他物品进行比较）\n",
    "    for j in range(n):\n",
    "        userRating = dataMat[user, j]\n",
    "        # 如果某个物品的评分值为0，则跳过这个物品\n",
    "        if userRating == 0:\n",
    "            continue\n",
    "        # 寻找两个用户都评级的物品\n",
    "        # 变量 overLap 给出的是两个物品当中已经被评分的那个元素的索引ID\n",
    "        # logical_and 计算x1和x2元素的真值。\n",
    "        overLap = nonzero(logical_and(dataMat[:, item].A > 0, dataMat[:, j].A > 0))[0]\n",
    "        # 如果相似度为0，则两着没有任何重合元素，终止本次循环\n",
    "        if len(overLap) == 0:\n",
    "            similarity = 0\n",
    "        # 如果存在重合的物品，则基于这些重合物重新计算相似度。\n",
    "        else:\n",
    "            similarity = simMeas(dataMat[overLap, item], dataMat[overLap, j])\n",
    "        # print 'the %d and %d similarity is : %f'(iten,j,similarity)\n",
    "        # 相似度会不断累加，每次计算时还考虑相似度和当前用户评分的乘积\n",
    "        # similarity  用户相似度，   userRating 用户评分\n",
    "        simTotal += similarity\n",
    "        ratSimTotal += similarity * userRating\n",
    "    if simTotal == 0:\n",
    "        return 0\n",
    "    # 通过除以所有的评分总和，对上述相似度评分的乘积进行归一化，使得最后评分在0~5之间，这些评分用来对预测值进行排序\n",
    "    else:\n",
    "        return ratSimTotal/simTotal"
   ]
  },
  {
   "cell_type": "code",
   "execution_count": null,
   "metadata": {},
   "outputs": [],
   "source": []
  }
 ],
 "metadata": {
  "kernelspec": {
   "display_name": "Python 3",
   "language": "python",
   "name": "python3"
  },
  "language_info": {
   "codemirror_mode": {
    "name": "ipython",
    "version": 3
   },
   "file_extension": ".py",
   "mimetype": "text/x-python",
   "name": "python",
   "nbconvert_exporter": "python",
   "pygments_lexer": "ipython3",
   "version": "3.7.4"
  }
 },
 "nbformat": 4,
 "nbformat_minor": 2
}
