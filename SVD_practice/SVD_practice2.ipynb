{
 "cells": [
  {
   "cell_type": "markdown",
   "metadata": {},
   "source": [
    "# 基于协同过滤的推荐引擎"
   ]
  },
  {
   "cell_type": "code",
   "execution_count": 1,
   "metadata": {},
   "outputs": [],
   "source": [
    "# coding=utf-8\n",
    "\n",
    "#导入numpy库\n",
    "from numpy import *\n",
    "from numpy import linalg as la"
   ]
  },
  {
   "cell_type": "code",
   "execution_count": 2,
   "metadata": {},
   "outputs": [],
   "source": [
    "#导入原始数据\n",
    "def loadExData():\n",
    "     return [[1,1,1,0,0],\n",
    "             [2,2,2,0,0],\n",
    "             [5,5,5,0,0],\n",
    "             [1,1,0,2,2],\n",
    "             [0,0,0,3,3],\n",
    "             [0,0,0,1,1]]"
   ]
  },
  {
   "cell_type": "code",
   "execution_count": 3,
   "metadata": {},
   "outputs": [],
   "source": [
    "#通过欧式距离来计算相似度\n",
    "def eulidSim(inA, inB):\n",
    "    return 1.0/(1.0+la.norm(inA - inB))\n",
    "\n",
    "#通过皮尔逊相关系数来计算相似度\n",
    "def pearsSim(inA, inB):\n",
    "    if len(inA)<3:\n",
    "        return 1.0\n",
    "    else:\n",
    "        return 0.5+0.5*corrcoef(inA, inB, rowvar = 0)[0][1]\n",
    "\n",
    "#余弦相似度\n",
    "def cosSim(inA, inB):\n",
    "    num   = float(inA.T*inB)            #向量inA和向量inB点乘,得cos分子\n",
    "    denom = la.norm(inA)*la.norm(inB)   #向量inA,inB各2范数相乘，得cos分母\n",
    "    return 0.5+0.5*(num/denom)         "
   ]
  },
  {
   "cell_type": "code",
   "execution_count": 4,
   "metadata": {},
   "outputs": [
    {
     "name": "stdout",
     "output_type": "stream",
     "text": [
      "0.13507810593582123\n",
      "1.0\n",
      "0.5480015360737319\n",
      "1.0\n",
      "0.2041960108450192\n",
      "1.0\n"
     ]
    }
   ],
   "source": [
    "myMat = mat(loadExData())\n",
    "\n",
    "print (eulidSim(myMat[:,0], myMat[:,4]))  #第一行和第五行欧式距离\n",
    "print (eulidSim(myMat[:,0], myMat[:,0]))  #第一行和第一行欧式距离\n",
    "print (cosSim(myMat[:,0], myMat[:,4]))    #第一行和第五行cos距离\n",
    "print (cosSim(myMat[:,0], myMat[:,0]))    #第一行和第一行cos距离\n",
    "print (pearsSim(myMat[:,0], myMat[:,4]))  #第一行和第五行皮尔逊距离\n",
    "print (pearsSim(myMat[:,0], myMat[:,0]))  #第一行和第一行皮尔逊距离"
   ]
  }
 ],
 "metadata": {
  "kernelspec": {
   "display_name": "Python 3",
   "language": "python",
   "name": "python3"
  },
  "language_info": {
   "codemirror_mode": {
    "name": "ipython",
    "version": 3
   },
   "file_extension": ".py",
   "mimetype": "text/x-python",
   "name": "python",
   "nbconvert_exporter": "python",
   "pygments_lexer": "ipython3",
   "version": "3.7.4"
  }
 },
 "nbformat": 4,
 "nbformat_minor": 2
}
